{
 "cells": [
  {
   "cell_type": "code",
   "execution_count": 3,
   "id": "0d0dab3f-58fd-4fdf-b5e9-032e7bd716d7",
   "metadata": {},
   "outputs": [
    {
     "name": "stdout",
     "output_type": "stream",
     "text": [
      "Skipping file with unexpected format: clubs.json\n",
      "JSON files have been written to /Users/user1/Barrabas/AA-Git/240529-new-entry-form/ファイル/団体/clubs.json\n"
     ]
    }
   ],
   "source": [
    "import os\n",
    "import json\n",
    "\n",
    "# Set the directory you want to scan\n",
    "directory = '/Users/user1/Barrabas/AA-Git/240529-new-entry-form/ファイル/団体'  \n",
    "filename = 'clubs.json'\n",
    "filename_and_path = os.path.join(directory, filename)\n",
    "json_files_info = []\n",
    "\n",
    "for root, dirs, files in os.walk(directory):\n",
    "    for file in files:\n",
    "        if file.endswith('.json'):\n",
    "            # Create the full path of the file\n",
    "            #full_path = os.path.join(root, file)\n",
    "            full_path = os.path.join(file) # took out the root\n",
    "            decoded_path = os.fsdecode(full_path)\n",
    "            base_name = os.path.splitext(file)[0]\n",
    "            try:\n",
    "                club_name, code = base_name.rsplit('_', 1)\n",
    "                # Ensure that code is numeric before converting to integer\n",
    "                if code.isdigit():\n",
    "                    code = int(code)\n",
    "                else:\n",
    "                    continue  # Skip this file if the code is not purely numeric\n",
    "                # Append a dictionary with the file path, club name, and code\n",
    "                json_files_info.append({\n",
    "                    \"fileName\": decoded_path,\n",
    "                    \"clubName\": club_name,\n",
    "                    \"code\": code\n",
    "                })\n",
    "            except ValueError:\n",
    "                # Handle cases where rsplit or int conversion fails\n",
    "                print(f\"Skipping file with unexpected format: {file}\")\n",
    "\n",
    "# Write the list of JSON files to a JSON file with UTF-8 encoding\n",
    "with open(filename_and_path, 'w', encoding='utf-8') as f:\n",
    "    json.dump(json_files_info, f, ensure_ascii=False, indent=4)\n",
    "\n",
    "print(f\"JSON files have been written to {filename_and_path}\")\n"
   ]
  }
 ],
 "metadata": {
  "kernelspec": {
   "display_name": "Python 3 (ipykernel)",
   "language": "python",
   "name": "python3"
  },
  "language_info": {
   "codemirror_mode": {
    "name": "ipython",
    "version": 3
   },
   "file_extension": ".py",
   "mimetype": "text/x-python",
   "name": "python",
   "nbconvert_exporter": "python",
   "pygments_lexer": "ipython3",
   "version": "3.12.3"
  }
 },
 "nbformat": 4,
 "nbformat_minor": 5
}
